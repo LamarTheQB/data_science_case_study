{
 "cells": [
  {
   "cell_type": "markdown",
   "id": "e4145404-42af-435e-aaba-1e137522414f",
   "metadata": {},
   "source": [
    "# Heading 1"
   ]
  },
  {
   "cell_type": "code",
   "execution_count": null,
   "id": "8f5ff0f1-e35f-4035-9b63-0ec516e7ea3c",
   "metadata": {},
   "outputs": [],
   "source": [
    "# this is where you should start coding"
   ]
  }
 ],
 "metadata": {
  "kernelspec": {
   "display_name": "Python 3 (ipykernel)",
   "language": "python",
   "name": "python3"
  },
  "language_info": {
   "codemirror_mode": {
    "name": "ipython",
    "version": 3
   },
   "file_extension": ".py",
   "mimetype": "text/x-python",
   "name": "python",
   "nbconvert_exporter": "python",
   "pygments_lexer": "ipython3",
   "version": "3.10.12"
  }
 },
 "nbformat": 4,
 "nbformat_minor": 5
}
