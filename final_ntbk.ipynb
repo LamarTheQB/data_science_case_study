{
 "cells": [
  {
   "cell_type": "markdown",
   "id": "e4145404-42af-435e-aaba-1e137522414f",
   "metadata": {},
   "source": [
    "# Heading 1"
   ]
  },
  {
   "cell_type": "code",
   "execution_count": null,
   "id": "8f5ff0f1-e35f-4035-9b63-0ec516e7ea3c",
   "metadata": {},
   "outputs": [],
   "source": [
    "# this is where you should start coding"
   ]
  },
  {
   "cell_type": "markdown",
   "id": "69125de7",
   "metadata": {},
   "source": [
    "### imports\n"
   ]
  },
  {
   "cell_type": "code",
   "execution_count": null,
   "id": "a311ac69",
   "metadata": {},
   "outputs": [],
   "source": [
    "import os\n",
    "import tarfile\n",
    "import requests\n",
    "import torch\n",
    "from torch.utils.data import Dataset\n",
    "import pandas as pd\n",
    "import cv2\n",
    "import os\n",
    "import torch.nn as nn\n",
    "import torch.nn.functional as F\n",
    "import math\n",
    "import tqdm\n",
    "from sklearn.model_selection import train_test_split\n",
    "import copy\n",
    "import matplotlib.pyplot as plt\n",
    "from torch.utils.data import DataLoader\n",
    "import torch.optim as optim"
   ]
  },
  {
   "cell_type": "markdown",
   "id": "7cf78212",
   "metadata": {},
   "source": [
    "### model definition\n"
   ]
  },
  {
   "cell_type": "code",
   "execution_count": null,
   "id": "b1b96086",
   "metadata": {},
   "outputs": [],
   "source": [
    "#\n",
    "\n",
    "class Net(nn.Module):\n",
    "  def __init__(self, n_classes):\n",
    "    super().__init__()\n",
    "\n",
    "    self.conv = nn.Conv2d(in_channels=1, out_channels=8, kernel_size=4, stride=1, padding=1)\n",
    "\n",
    "    self.fc1 = nn.Linear(8 * 6 * 7, n_classes)\n",
    "    self.fc2 = nn.Linear(n_classes, 1)\n",
    "\n",
    "  def forward(self, x):\n",
    "    x = x.unsqueeze(1)\n",
    "    x = self.conv(x)\n",
    "    x = F.relu(x)\n",
    "    x = x.view(x.size(0), -1)\n",
    "\n",
    "    x = self.fc1(x)\n",
    "    x = F.relu(x)\n",
    "    x = self.fc2(x)\n",
    "    return x\n",
    "\n",
    "\n",
    "model = nn.Sequential(\n",
    "    nn.Linear(8, 24),\n",
    "    nn.ReLU(),\n",
    "    nn.Linear(24, 12),\n",
    "    nn.ReLU(),\n",
    "    nn.Linear(12, 6),\n",
    "    nn.ReLU(),\n",
    "    nn.Linear(6, 1)\n",
    ")"
   ]
  },
  {
   "cell_type": "code",
   "execution_count": null,
   "id": "f30f7b14",
   "metadata": {},
   "outputs": [],
   "source": [
    "n_epochs = 100\n",
    "batch_size = 10"
   ]
  },
  {
   "cell_type": "markdown",
   "id": "6e55b4bb",
   "metadata": {},
   "source": [
    "### train model using train and validation datasets"
   ]
  },
  {
   "cell_type": "code",
   "execution_count": null,
   "id": "9efd7d90",
   "metadata": {},
   "outputs": [],
   "source": [
    "# loss function and optimizer\n",
    "loss_fn = nn.MSELoss()  # mean square error\n",
    "optimizer = optim.Adam(model.parameters(), lr=0.0001)\n",
    "\n",
    "# train-test split of the dataset\n",
    "X_train, X_test, y_train, y_test = train_test_split(x, y, train_size=0.7, shuffle=True)\n",
    "X_train = torch.tensor(X_train, dtype=torch.float32)\n",
    "y_train = torch.tensor(y_train, dtype=torch.float32).reshape(-1, 1)\n",
    "X_test = torch.tensor(X_test, dtype=torch.float32)\n",
    "y_test = torch.tensor(y_test, dtype=torch.float32).reshape(-1, 1)\n",
    "\n",
    "train_size = int(0.8 * len(dataset))\n",
    "test_size = int(0.1 * len(dataset))\n",
    "val_size = int(0.1 * len(dataset))\n",
    "train_set, test_set, val_set = torch.utils.data.random_split(dataset, [train_size, test_size, val_size])\n",
    "\n",
    "y_train = train_set.pop('price')\n",
    "y_test = test_set.pop('price')\n",
    "y_val = val_set.pop('price')\n",
    "\n",
    "x_train = torch.tensor(train_set, dtype=torch.float32)\n",
    "x_test = torch.tensor(test_set, dtype=torch.float32)\n",
    "x_val = torch.tensor(val_set, dtype=torch.float32)\n",
    "\n",
    "y_train = torch.tensor(y_train, dtype=torch.float32).reshape(-1, 1)\n",
    "y_test = torch.tensor(y_test, dtype=torch.float32).reshape(-1, 1)\n",
    "y_val = torch.tensor(y_val, dtype=torch.float32).reshape(-1, 1)\n",
    "\n",
    "# Hold the best model\n",
    "best_mse = np.inf   # init to infinity\n",
    "best_model = None\n",
    "mse_store = []\n",
    "loss_store = []\n",
    "eval_epochs = 0\n",
    "batch_start = torch.arange(0, len(X_train), batch_size)\n",
    "\n",
    "# training loop\n",
    "for epoch in range(n_epochs):\n",
    "\n",
    "    model.train()\n",
    "\n",
    "    with tqdm.tqdm(batch_start, unit=\"batch\", mininterval=0, disable=True) as bar:\n",
    "        bar.set_description(f\"Epoch {epoch}\")\n",
    "\n",
    "        for start in bar:\n",
    "\n",
    "            # take a batch\n",
    "            X_batch = X_train[start:start+batch_size]\n",
    "            y_batch = y_train[start:start+batch_size]\n",
    "\n",
    "            # forward pass\n",
    "            y_pred = model(X_batch)\n",
    "            loss = loss_fn(y_pred, y_batch)\n",
    "\n",
    "            # backward pass\n",
    "            optimizer.zero_grad()\n",
    "            loss.backward()\n",
    "\n",
    "            # update weights\n",
    "            optimizer.step()\n",
    "\n",
    "            # print progress\n",
    "            bar.set_postfix(mse=float(loss))\n",
    "\n",
    "    # evaluate accuracy at end of each epoch\n",
    "    model.eval()\n",
    "    y_pred = model(x_val)\n",
    "\n",
    "    eval_epochs += 1\n",
    "\n",
    "    mse = loss_fn(y_pred, y_val)\n",
    "\n",
    "    mse = float(mse)\n",
    "    mse_store.append(mse)\n",
    "    loss_store.append(loss.item())\n",
    "\n",
    "    print(f\"Epoch: {epoch}, Train Loss: {loss.item()} Eval Loss: {mse}\")\n",
    "\n",
    "    if mse < best_mse:\n",
    "        best_mse = mse\n",
    "        best_model = copy.deepcopy(model.state_dict())\n",
    "\n",
    "# Save your model's weights\n",
    "model.load_state_dict(best_model)\n",
    "torch.save(model.state_dict(), \"model.pth\")"
   ]
  },
  {
   "cell_type": "markdown",
   "id": "bb36670c",
   "metadata": {},
   "source": [
    "### plot training and eval loss values\n",
    "\n",
    "\n"
   ]
  },
  {
   "cell_type": "code",
   "execution_count": null,
   "id": "840b378e",
   "metadata": {},
   "outputs": [],
   "source": [
    "# restore model and return best accuracy\n",
    "model.load_state_dict(best_model)"
   ]
  },
  {
   "cell_type": "code",
   "execution_count": null,
   "id": "3d7d2fdb",
   "metadata": {},
   "outputs": [],
   "source": [
    "# Plot the training and validation loss\n",
    "plt.plot(eval_epochs, loss_store, label='Training loss')\n",
    "plt.plot(eval_epochs, mse_store, label='Validation loss')\n",
    "plt.legend()\n",
    "plt.show()"
   ]
  },
  {
   "cell_type": "markdown",
   "id": "a35e1864",
   "metadata": {},
   "source": [
    "# testing model on test set\n"
   ]
  },
  {
   "cell_type": "code",
   "execution_count": null,
   "id": "9bd377e5",
   "metadata": {},
   "outputs": [],
   "source": [
    "# Load from your saved model using torch.load\n",
    "model_state_dict = torch.load(\"./model.pth\")\n",
    "\n",
    "model = nn.Sequential(\n",
    "    nn.Linear(8, 24),\n",
    "    nn.ReLU(),\n",
    "    nn.Linear(24, 12),\n",
    "    nn.ReLU(),\n",
    "    nn.Linear(12, 6),\n",
    "    nn.ReLU(),\n",
    "    nn.Linear(6, 1)\n",
    ")\n",
    "\n",
    "model.load_state_dict(model_state_dict)\n",
    "\n",
    "# set model to inference mode\n",
    "model.eval()\n",
    "batch_size = 1\n",
    "preds = []\n",
    "\n",
    "test_loader = DataLoader(x_test, batch_size=batch_size, shuffle=False)\n",
    "\n",
    "\n",
    "with torch.no_grad():\n",
    "\n",
    "  for x in tqdm(test_loader):\n",
    "\n",
    "    y_pred = model(x)\n",
    "\n",
    "    preds.append(y_pred)\n",
    "\n",
    "\n",
    "# Get the true labels for the validation dataset\n",
    "true_y = torch.tensor(y_test)\n",
    "preds = torch.tensor(preds)\n",
    "\n",
    "accuracy = (true_y == preds).float().mean().item()\n",
    "print(f\"Accuracy: {accuracy}\")"
   ]
  }
 ],
 "metadata": {
  "kernelspec": {
   "display_name": "Python 3 (ipykernel)",
   "language": "python",
   "name": "python3"
  },
  "language_info": {
   "codemirror_mode": {
    "name": "ipython",
    "version": 3
   },
   "file_extension": ".py",
   "mimetype": "text/x-python",
   "name": "python",
   "nbconvert_exporter": "python",
   "pygments_lexer": "ipython3",
   "version": "3.10.12"
  }
 },
 "nbformat": 4,
 "nbformat_minor": 5
}
